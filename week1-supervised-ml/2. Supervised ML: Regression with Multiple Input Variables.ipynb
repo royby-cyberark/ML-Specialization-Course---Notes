{
 "cells": [
  {
   "cell_type": "markdown",
   "metadata": {},
   "source": [
    "# TODO - import from notion"
   ]
  },
  {
   "cell_type": "markdown",
   "metadata": {},
   "source": [
    "# 2. Supervised ML: Regression with Multiple Input Variables\n",
    "\n",
    "## Multiple Linear Regression"
   ]
  },
  {
   "cell_type": "markdown",
   "metadata": {},
   "source": [
    "### Multiple Features\n",
    "\n",
    "TODO - implement"
   ]
  },
  {
   "cell_type": "markdown",
   "metadata": {},
   "source": [
    "### Vectorization Part 1"
   ]
  },
  {
   "cell_type": "markdown",
   "metadata": {},
   "source": [
    "when implementing learning algorithm, using vertorization will make your code faster, shorter, more efficient, you can use GPU hardware, etc.\n",
    "params and features:\n",
    "\n",
    "`w = [w1, w2, w3]`\n",
    "\n",
    "`x = [x1, x2, x3]`\n",
    "\n",
    "note that in linear algebra index starts at 1\n",
    "\n",
    "in python we'll use numpy:\n",
    "\n",
    "```\n",
    "w = np.array([1.0, 2.5, -3.3])\n",
    "b = 4\n",
    "x = np.array([10, 20, 30])\n",
    "```\n",
    "\n",
    "f(x) = w1x1 + w2x2 + w3x3 + b\n",
    "without vectorization, we will use a for look to sum wx, but we rather use vectorization\n",
    "\n",
    "$\n",
    "f_{w,b}(x) = \\sum_{j=1}^{n} w_jx_j + b\n",
    "$\n",
    "\n",
    "in vectoirized notation:\n",
    "$\n",
    "f_{w,b}(x)=\\vec w \\cdot \\vec x + b\n",
    "$\n",
    "\n",
    "and with numpy:\n",
    "\n",
    "```\n",
    "# apply the dot product to w and x\n",
    "f = np.dot(w, x) + b\n",
    "```\n",
    "\n",
    "This is much faster than using a for loop and it's shorter (then using a for loop)\n",
    "\n",
    "\n",
    "\n"
   ]
  },
  {
   "cell_type": "markdown",
   "metadata": {},
   "source": [
    "### Vectorization Part 2"
   ]
  },
  {
   "cell_type": "markdown",
   "metadata": {},
   "source": [
    "Why is vectorization so much faster?\n",
    "\n",
    "```\n",
    "for j in range(0, 16):\n",
    "    f += w[j] * x[j]\n",
    "```\n",
    "\n",
    "this runs one step at a time:\n",
    "\n",
    "t0: f + w[0] * x[0]\n",
    "t1: f + w[1] * x[1]\n",
    "t2: f + w[2] * x[2]\n",
    "...\n",
    "t15: f + w[15] * x[15]\n",
    "\n",
    "\n",
    "On the other hand, vectorization in numpy, gets all the values of w, x and in one step multiplies them.\n",
    "then adds everything efficiently using hardware that can run in parallel (and GPU if possible)\n",
    "\n",
    "```\n",
    "\n",
    "`np.dot(w, x)`\n",
    "\n",
    "\n",
    "this allow us to scale well with large datasets.\n",
    "\n",
    "Here's how this helps us in gradient descent:\n",
    "\n",
    "![image.png](week1-supervised-ml/image.png)\n",
    "\n"
   ]
  }
 ],
 "metadata": {
  "kernelspec": {
   "display_name": ".venv",
   "language": "python",
   "name": "python3"
  },
  "language_info": {
   "codemirror_mode": {
    "name": "ipython",
    "version": 3
   },
   "file_extension": ".py",
   "mimetype": "text/x-python",
   "name": "python",
   "nbconvert_exporter": "python",
   "pygments_lexer": "ipython3",
   "version": "3.11.5"
  }
 },
 "nbformat": 4,
 "nbformat_minor": 2
}
